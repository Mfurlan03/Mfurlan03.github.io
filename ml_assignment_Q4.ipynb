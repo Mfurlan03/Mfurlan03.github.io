{
  "cells": [
    {
      "cell_type": "code",
      "execution_count": 1,
      "metadata": {
        "colab": {
          "base_uri": "https://localhost:8080/",
          "height": 170
        },
        "colab_type": "code",
        "id": "yN-7-GtIezuO",
        "outputId": "066c67d6-4109-40bd-c71f-c14413a3e282"
      },
      "outputs": [],
      "source": [
        "!pip install wget\n",
        "!pip install scikit-learn==1.5"
      ]
    },
    {
      "cell_type": "code",
      "execution_count": 5,
      "metadata": {
        "colab": {},
        "colab_type": "code",
        "id": "ZxVJZ-xUeD5a"
      },
      "outputs": [],
      "source": [
        "import pandas as pd\n",
        "import numpy as np\n",
        "import seaborn as sns\n",
        "import matplotlib.pyplot as plt\n",
        "\n",
        "import wget\n",
        "import time as time\n",
        "from sklearn import linear_model\n",
        "from sklearn.model_selection import train_test_split\n",
        "from sklearn.model_selection import cross_val_score\n",
        "from sklearn.metrics import mutual_info_score\n",
        "from sklearn.metrics import root_mean_squared_error\n",
        "from sklearn.ensemble import GradientBoostingRegressor\n",
        "import xgboost as xgb\n",
        "\n",
        "#your import here"
      ]
    },
    {
      "cell_type": "markdown",
      "metadata": {},
      "source": [
        "## Import Dataset"
      ]
    },
    {
      "cell_type": "code",
      "execution_count": 17,
      "metadata": {},
      "outputs": [
        {
          "data": {
            "text/plain": [
              "'sale_data.zip'"
            ]
          },
          "execution_count": 17,
          "metadata": {},
          "output_type": "execute_result"
        }
      ],
      "source": [
        "wget.download('https://github.com/MIE451-2024/course-datasets/raw/refs/heads/main/sale_data.zip', 'sale_data.zip')"
      ]
    },
    {
      "cell_type": "code",
      "execution_count": 18,
      "metadata": {},
      "outputs": [
        {
          "name": "stdout",
          "output_type": "stream",
          "text": [
            "Archive:  sale_data.zip\n",
            "   creating: sale_data/\n",
            "  inflating: sale_data/.DS_Store     \n",
            "  inflating: sale_data/weather_data.csv  \n",
            "  inflating: __MACOSX/sale_data/._weather_data.csv  \n",
            "  inflating: sale_data/train_data_assignment.csv  \n",
            "  inflating: sale_data/cleaned_test_data.csv  \n",
            "  inflating: sale_data/test_data_assignment.csv  \n",
            "  inflating: sale_data/cleaned_train_data.csv  \n"
          ]
        }
      ],
      "source": [
        "!unzip sale_data.zip\n",
        "DATA_DIR = 'sale_data'"
      ]
    },
    {
      "cell_type": "code",
      "execution_count": 19,
      "metadata": {},
      "outputs": [],
      "source": [
        "# get the train dataset (this data is the training data used to train your model, traing data will be same as in our evaluation)\n",
        "\n",
        "### YOU SHOULD MAKE THEM AS INPUT PARAMETERS IN YOUR FUNCTION IF YOU ARE USING THEM ###\n",
        "### DO NOT USE THEM AS GLOBAL VARIABLE ###\n",
        "train_data = pd.read_csv(DATA_DIR+\"/train_data_assignment.csv\")\n",
        "# get a sample test dataset (the final test data will be different in our evaluation)\n",
        "test_data = pd.read_csv(DATA_DIR+\"/test_data_assignment.csv\")\n",
        "# weather data (optional)\n",
        "weather_data = pd.read_csv(DATA_DIR+\"/weather_data.csv\")"
      ]
    },
    {
      "cell_type": "markdown",
      "metadata": {},
      "source": [
        "## Q4"
      ]
    },
    {
      "cell_type": "code",
      "execution_count": null,
      "metadata": {},
      "outputs": [],
      "source": [
        "# You can use theis code block to test different models and hyperparameters using train_data \n",
        "# The autograder will only retreived the functions defined below"
      ]
    },
    {
      "cell_type": "code",
      "execution_count": 20,
      "metadata": {},
      "outputs": [],
      "source": [
        "def data_cleaning(raw_data: pd.DataFrame, weather_data: pd.DataFrame = None) -> pd.DataFrame:\n",
        "    # This function should handle the cleaning of the dataset for both training and testing\n",
        "\n",
        "    # DO NOT modify the name or drop the 'Sales' column when cleaning the training set\n",
        "\n",
        "    # This function also be able to handle cleaning test dataset, which does not have 'Sales' column\n",
        "    clean_data = raw_data.copy()\n",
        "    ################# YOU CODE HERE ################\n",
        "    \n",
        "    # we sorted the dataframe by store and date to ensure the order of sample is consistent with the ground truth\n",
        "    clean_data.sort_values(by=['Store', 'Date'], inplace=True)\n",
        "    # the return dataset should be a dataframe\n",
        "    # that was cleaned and ready to be used for either training or testing\n",
        "    return clean_data"
      ]
    },
    {
      "cell_type": "code",
      "execution_count": 23,
      "metadata": {},
      "outputs": [],
      "source": [
        "def model_training(train_data: pd.DataFrame):\n",
        "    # Split the data into observed features and target feature\n",
        "    X = train_data.drop(['Sales'], axis=1)\n",
        "    y = train_data['Sales']\n",
        "\n",
        "\n",
        "    ################# YOU CODE HERE ################\n",
        "    # You should:\n",
        "    # 1. Create your best model and store in the model variable\n",
        "    # 2. Train your model with the train data where X is the observed features and y is the target feature\n",
        "    model = None\n",
        "\n",
        "    # the model return by this function should be ready to predict the sales given the test data\n",
        "    return model"
      ]
    },
    {
      "cell_type": "code",
      "execution_count": 21,
      "metadata": {},
      "outputs": [],
      "source": [
        "def prediction(train_data: pd.DataFrame, test_data: pd.DataFrame, weather_data: pd.DataFrame) -> pd.DataFrame:\n",
        "    # This function should return the prediction given the test dataset\n",
        "    # The output should be a dataframe with one column\n",
        "    # and the index should match the test_data index\n",
        "    train_data = data_cleaning(raw_data = train_data, weather_data = weather_data) #make sure the returned train data as the same order of rows as the train data\n",
        "    model = model_training(train_data) # This will run the train_model your implemented above to obtain a trained model\n",
        "    test_data = data_cleaning(raw_data = test_data, weather_data = weather_data) #make sure the returned test data as the same order of rows as the train data\n",
        "\n",
        "    # check if the test data has all the columns that the model was trained on\n",
        "    for column in train_data.columns:\n",
        "        if column not in test_data.columns and column != 'Sales':\n",
        "            # add the missing column to the test data and set it to 0\n",
        "            #  (feel free to change it to any other value)\n",
        "            test_data[column] = 0\n",
        "\n",
        "    # Ensure the order of the columns in the test dataset is the same as the train\n",
        "    test_data = test_data[[column for column in train_data.columns if column != 'Sales']]\n",
        "\n",
        "    ################# YOU CODE HERE ################\n",
        "    # You should use 'model' to make predictions\n",
        "    y_pred = None # Please store the prediction of test data in y_pred\n",
        "\n",
        "    # the return should be a dataframe with one column and the index should match test_data index\n",
        "    return pd.DataFrame(y_pred, columns=['Sales'], index=test_data.index)\n"
      ]
    },
    {
      "cell_type": "code",
      "execution_count": null,
      "metadata": {},
      "outputs": [],
      "source": [
        "# This is the sample code for our autograder to eveluate your model, you should make sure the code is working as expected\n",
        "\n",
        "# This will be a sample test dataset to help you validate your code, the actual test dataset will be different\n",
        "X_test = test_data.drop('Sales', axis=1)\n",
        "# This will be target value that you will compare with your prediction (you will not have this in the test set)\n",
        "y_test = test_data['Sales']\n",
        "\n",
        "# THE RUNTIME FOR FOLLOWING CODE SHOULD BE WITHIN 7 MINUTES\n",
        "y_pred = prediction(train_data, X_test, weather_data)\n",
        "\n",
        "# This will print the RMSE score for the test dataset\n",
        "# If you encounter a unexpected high RMSE score (>4000),\n",
        "# this might indicate the order of the samples in test dataset is incorrect\n",
        "print(f\"RMSE: {root_mean_squared_error(y_test, y_pred)}\")"
      ]
    },
    {
      "cell_type": "markdown",
      "metadata": {},
      "source": [
        "A clear and concise description of your chosen feature set and any additional features you used through feature engineering or external sources.\n",
        "\n",
        "(You answer here)"
      ]
    },
    {
      "cell_type": "markdown",
      "metadata": {},
      "source": [
        "The name of the regression model you choose\n",
        "\n",
        "(You answer here)"
      ]
    },
    {
      "cell_type": "markdown",
      "metadata": {},
      "source": [
        "Why you chose the feature set and model?\n",
        "\n",
        "(You answer here)"
      ]
    }
  ],
  "metadata": {
    "colab": {
      "name": "ml-assignment_done.ipynb",
      "provenance": [],
      "version": "0.3.2"
    },
    "kernelspec": {
      "display_name": "Python 3",
      "language": "python",
      "name": "python3"
    },
    "language_info": {
      "codemirror_mode": {
        "name": "ipython",
        "version": 3
      },
      "file_extension": ".py",
      "mimetype": "text/x-python",
      "name": "python",
      "nbconvert_exporter": "python",
      "pygments_lexer": "ipython3",
      "version": "3.12.1"
    }
  },
  "nbformat": 4,
  "nbformat_minor": 0
}

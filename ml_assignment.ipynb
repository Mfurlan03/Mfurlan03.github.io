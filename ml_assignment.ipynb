{
  "cells": [
    {
      "cell_type": "code",
      "execution_count": 1,
      "metadata": {
        "colab": {
          "base_uri": "https://localhost:8080/",
          "height": 170
        },
        "colab_type": "code",
        "id": "yN-7-GtIezuO",
        "outputId": "066c67d6-4109-40bd-c71f-c14413a3e282"
      },
      "outputs": [],
      "source": [
        "!pip install wget\n",
        "!pip install scikit-learn==1.5"
      ]
    },
    {
      "cell_type": "code",
      "execution_count": 1,
      "metadata": {
        "colab": {},
        "colab_type": "code",
        "id": "ZxVJZ-xUeD5a"
      },
      "outputs": [],
      "source": [
        "import pandas as pd\n",
        "import numpy as np\n",
        "import seaborn as sns\n",
        "import matplotlib.pyplot as plt\n",
        "\n",
        "import wget\n",
        "import time as time\n",
        "from sklearn import linear_model\n",
        "from sklearn.model_selection import train_test_split\n",
        "from sklearn.model_selection import cross_val_score\n",
        "from sklearn.metrics import mutual_info_score\n",
        "from sklearn.metrics import root_mean_squared_error\n",
        "\n",
        "# your import here"
      ]
    },
    {
      "cell_type": "markdown",
      "metadata": {},
      "source": [
        "## Import Dataset"
      ]
    },
    {
      "cell_type": "code",
      "execution_count": null,
      "metadata": {},
      "outputs": [
        {
          "data": {
            "text/plain": [
              "'sale_data.zip'"
            ]
          },
          "execution_count": 12,
          "metadata": {},
          "output_type": "execute_result"
        }
      ],
      "source": [
        "wget.download('https://github.com/MIE451-2025/course-datasets/raw/refs/heads/main/sale_data.zip', 'sale_data.zip')"
      ]
    },
    {
      "cell_type": "code",
      "execution_count": 13,
      "metadata": {},
      "outputs": [
        {
          "name": "stdout",
          "output_type": "stream",
          "text": [
            "Archive:  sale_data.zip\n",
            "   creating: sale_data/\n",
            "  inflating: sale_data/.DS_Store     \n",
            "  inflating: __MACOSX/sale_data/._.DS_Store  \n",
            "  inflating: sale_data/train_data_assignment.csv  \n",
            "  inflating: sale_data/cleaned_test_data.csv  \n",
            "  inflating: __MACOSX/sale_data/._cleaned_test_data.csv  \n",
            "  inflating: sale_data/test_data_assignment.csv  \n",
            "  inflating: sale_data/cleaned_train_data.csv  \n",
            "  inflating: __MACOSX/sale_data/._cleaned_train_data.csv  \n"
          ]
        }
      ],
      "source": [
        "!unzip sale_data.zip\n",
        "DATA_DIR = 'sale_data'"
      ]
    },
    {
      "cell_type": "code",
      "execution_count": 14,
      "metadata": {},
      "outputs": [],
      "source": [
        "### YOU SHOULD MAKE THEM AS INPUT PARAMETERS IN YOUR FUNCTION IF YOU ARE USING THEM ###\n",
        "### DO NOT USE THEM AS GLOBAL VARIABLE ###\n",
        "\n",
        "# get the train data\n",
        "train_data = pd.read_csv(DATA_DIR+\"/train_data_assignment.csv\")\n",
        "# get the test data\n",
        "test_data = pd.read_csv(DATA_DIR+\"/test_data_assignment.csv\")"
      ]
    },
    {
      "cell_type": "markdown",
      "metadata": {
        "colab_type": "text",
        "id": "CubPPylFeD5s"
      },
      "source": [
        "## Q1\n",
        "\n",
        "### Q1 (a)"
      ]
    },
    {
      "cell_type": "code",
      "execution_count": null,
      "metadata": {
        "colab": {},
        "colab_type": "code",
        "id": "WPiQ2nNleD5w"
      },
      "outputs": [],
      "source": [
        "def basic_stats(data: pd.DataFrame) -> tuple:\n",
        "\n",
        "    # Codes for Q1a\n",
        "\n",
        "    num_of_total_records = None # (int) Number of total records in the 'data'\n",
        "\n",
        "    num_of_features = None # (int) The number of features in the 'data' including the target feature 'Sales'\n",
        "\n",
        "    num_of_total_unique_date = None # (int) Number of unique dates available in the 'data'\n",
        "\n",
        "    num_of_unique_store = None # (int) Number of stores available in the 'data'\n",
        "\n",
        "    mean_sales = None # (float) Mean of the target feature 'Sales'\n",
        "\n",
        "    return num_of_total_records, num_of_features, num_of_total_unique_date, num_of_unique_store, mean_sales"
      ]
    },
    {
      "cell_type": "code",
      "execution_count": null,
      "metadata": {
        "colab": {
          "base_uri": "https://localhost:8080/",
          "height": 51
        },
        "colab_type": "code",
        "id": "HHw-vhyMeD5y",
        "outputId": "94f8b30a-ce09-4772-d87f-38521eaf043d"
      },
      "outputs": [],
      "source": [
        "results = basic_stats(train_data)\n",
        "\n",
        "# report results\n",
        "print(\"Number of total records: \", results[0])\n",
        "print(\"Number of features: \", results[1])\n",
        "print(\"Number of total unique date: \", results[2])\n",
        "print(\"Number of unique store: \", results[3])\n",
        "print(\"Mean of the target feature 'Sales': \", results[4])"
      ]
    },
    {
      "cell_type": "markdown",
      "metadata": {
        "colab_type": "text",
        "id": "HFKETa0EeD52"
      },
      "source": [
        "Text Answer for Q1 (a) goes here"
      ]
    },
    {
      "cell_type": "code",
      "execution_count": null,
      "metadata": {},
      "outputs": [],
      "source": [
        "# validation code\n",
        "assert (isinstance(results[0], int)), \"Return type of the value should be int\"\n",
        "assert (isinstance(results[1], int)), \"Return type of the value should be int\"\n",
        "assert (isinstance(results[2], int)), \"Return type of the value should be int\"\n",
        "assert (isinstance(results[3], int)), \"Return type of the value should be int\"\n",
        "assert (isinstance(results[4], float)), \"Return type of the value should be float\""
      ]
    },
    {
      "cell_type": "markdown",
      "metadata": {
        "colab_type": "text",
        "id": "e4OkD9VMeD53"
      },
      "source": [
        "### Q1 (b)"
      ]
    },
    {
      "cell_type": "code",
      "execution_count": 11,
      "metadata": {},
      "outputs": [],
      "source": [
        "def schoolholiday_count(data: pd.DataFrame) -> plt.Axes:\n",
        "    fig = plt.subplots(figsize=(10, 6))\n",
        "\n",
        "    # Codes for Q1b, you should store the axes of your counter plot in the variable 'counter_plot', \n",
        "    # please refer to CounterPlot() in the lab notebook for an example\n",
        "    counter_plot = None\n",
        "\n",
        "    return counter_plot"
      ]
    },
    {
      "cell_type": "code",
      "execution_count": 12,
      "metadata": {
        "colab": {},
        "colab_type": "code",
        "id": "NvIdtft2eD54"
      },
      "outputs": [],
      "source": [
        "def sales_vs_promo2_bar(data: pd.DataFrame) -> plt.Axes:\n",
        "    fig = plt.subplots(figsize=(10, 6))\n",
        "    \n",
        "    # Codes for Q1b\n",
        "    bar_plot = None\n",
        "    \n",
        "    return bar_plot"
      ]
    },
    {
      "cell_type": "code",
      "execution_count": 13,
      "metadata": {},
      "outputs": [],
      "source": [
        "def sales_vs_competition_scatter(data: pd.DataFrame) -> plt.Axes:\n",
        "    fig = plt.figure(figsize=(10, 6))\n",
        "\n",
        "    # Codes for Q1b\n",
        "    scatter_plot = None\n",
        "    \n",
        "    return scatter_plot\n",
        "    "
      ]
    },
    {
      "cell_type": "code",
      "execution_count": null,
      "metadata": {},
      "outputs": [],
      "source": [
        "# plot the counter plot\n",
        "ax1 = schoolholiday_count(train_data)\n",
        "plt.show()"
      ]
    },
    {
      "cell_type": "markdown",
      "metadata": {},
      "source": [
        "Text Answer for Q1 (b) goes here"
      ]
    },
    {
      "cell_type": "code",
      "execution_count": null,
      "metadata": {},
      "outputs": [],
      "source": [
        "# plot the bar plot\n",
        "ax2 = sales_vs_promo2_bar(train_data)\n",
        "plt.show()"
      ]
    },
    {
      "cell_type": "markdown",
      "metadata": {},
      "source": [
        "Text Answer for Q1 (b) goes here"
      ]
    },
    {
      "cell_type": "code",
      "execution_count": null,
      "metadata": {
        "colab": {},
        "colab_type": "code",
        "id": "B-SKggDQeD57"
      },
      "outputs": [],
      "source": [
        "# plot the scatter plot\n",
        "ax3 = sales_vs_competition_scatter(train_data)\n",
        "plt.show()"
      ]
    },
    {
      "cell_type": "markdown",
      "metadata": {},
      "source": [
        "Text Answer for Q1 (b) goes here"
      ]
    },
    {
      "cell_type": "code",
      "execution_count": null,
      "metadata": {},
      "outputs": [],
      "source": [
        "assert (isinstance(ax1, plt.Axes)), \"Return type of the value should be matplotlib.axes._subplots.Axes\"\n",
        "assert (isinstance(ax2, plt.Axes)), \"Return type of the value should be matplotlib.axes._subplots.Axes\"\n",
        "assert (isinstance(ax3, plt.Axes)), \"Return type of the value should be matplotlib.axes._subplots.Axes\""
      ]
    },
    {
      "cell_type": "markdown",
      "metadata": {
        "colab_type": "text",
        "id": "KbMWfJZdeD5-"
      },
      "source": [
        "### Q1 (c)"
      ]
    },
    {
      "cell_type": "code",
      "execution_count": 17,
      "metadata": {
        "colab": {
          "base_uri": "https://localhost:8080/",
          "height": 119
        },
        "colab_type": "code",
        "id": "jbovGMn0eD5_",
        "outputId": "9ce8e464-a7c4-468f-b19c-10dbcf0134a2"
      },
      "outputs": [],
      "source": [
        "def missing_data(data: pd.DataFrame) -> dict:\n",
        "    # Codes for Q1c\n",
        "    missing_count = None\n",
        "\n",
        "    return missing_count"
      ]
    },
    {
      "cell_type": "code",
      "execution_count": 18,
      "metadata": {},
      "outputs": [],
      "source": [
        "# report the missing data\n",
        "missing_data(train_data)"
      ]
    },
    {
      "cell_type": "markdown",
      "metadata": {},
      "source": [
        "Text Answer for Q1 (c) goes here"
      ]
    },
    {
      "cell_type": "code",
      "execution_count": null,
      "metadata": {},
      "outputs": [],
      "source": [
        "assert (isinstance(missing_data(train_data), dict)), \"Return type of the value should be dict\""
      ]
    },
    {
      "cell_type": "markdown",
      "metadata": {},
      "source": [
        "## Q2"
      ]
    },
    {
      "cell_type": "markdown",
      "metadata": {
        "colab_type": "text",
        "id": "Td9c5cuueD6j"
      },
      "source": [
        "### Q2 (a)\n",
        "\n",
        "Modify the partial code below"
      ]
    },
    {
      "cell_type": "code",
      "execution_count": 19,
      "metadata": {
        "colab": {},
        "colab_type": "code",
        "id": "rVe6CROteD6j"
      },
      "outputs": [],
      "source": [
        "def clean_data(data: pd.DataFrame) -> pd.DataFrame:\n",
        "\n",
        "    '''\n",
        "    Please Complete Following Task in this function:\n",
        "\n",
        "    1. Convert 'Date' column to three column with name 'Year', 'Month', and 'Day'\n",
        "       For example, 2015-07-31 should be converted to 2015, 7, 31\n",
        "    '''\n",
        "    clean_data = data.copy()\n",
        "    # codes for task1\n",
        "\n",
        "    '''\n",
        "    2. Create 3 indicator variables for 'Assortment' column with name 'Assortment_a', 'Assortment_b', and 'Assortment_c' \n",
        "            For example, if 'Assortment' is 'a', then 'Assortment_a' should be 1 and all other indicator variables should be 0\n",
        "            \n",
        "    '''\n",
        "    # codes for task2\n",
        "\n",
        "    '''\n",
        "    3. Drop 'Date' and 'Assortment' columns\n",
        "    '''\n",
        "    # codes for task3\n",
        "\n",
        "\n",
        "    return clean_data"
      ]
    },
    {
      "cell_type": "code",
      "execution_count": null,
      "metadata": {},
      "outputs": [],
      "source": [
        "# report the cleaned data\n",
        "cleaned_data = clean_data(train_data)\n",
        "cleaned_data.columns"
      ]
    },
    {
      "cell_type": "code",
      "execution_count": null,
      "metadata": {},
      "outputs": [],
      "source": [
        "assert (isinstance(cleaned_data, pd.DataFrame)), \"Return type of the value should be pd.DataFrame\""
      ]
    },
    {
      "cell_type": "markdown",
      "metadata": {},
      "source": [
        "### Q2 (b)"
      ]
    },
    {
      "cell_type": "code",
      "execution_count": 15,
      "metadata": {},
      "outputs": [
        {
          "data": {
            "text/plain": [
              "Index(['Store', 'Year', 'Customers', 'SchoolHoliday', 'CompetitionDistance',\n",
              "       'Promo', 'Promo2', 'PromoInterval', 'Assortment_a', 'Assortment_b',\n",
              "       'Assortment_c', 'StateHoliday_0', 'StateHoliday_a', 'StateHoliday_b',\n",
              "       'StateHoliday_c', 'StoreType_a', 'StoreType_b', 'StoreType_c',\n",
              "       'StoreType_d', 'February', 'March', 'April', 'May', 'June', 'July',\n",
              "       'August', 'September', 'October', 'November', 'December', 'Tuesday',\n",
              "       'Wednesday', 'Thursday', 'Friday', 'Saturday', 'Sunday', 'Sales'],\n",
              "      dtype='object')"
            ]
          },
          "execution_count": 15,
          "metadata": {},
          "output_type": "execute_result"
        }
      ],
      "source": [
        "# DO NOT MODIFY THIS CELL\n",
        "# This will be the provided cleaned data for the rest of the assignment\n",
        "cleaned_train_data = pd.read_csv(DATA_DIR+\"/cleaned_train_data.csv\")\n",
        "cleaned_train_data.columns"
      ]
    },
    {
      "cell_type": "code",
      "execution_count": 22,
      "metadata": {
        "colab": {
          "base_uri": "https://localhost:8080/",
          "height": 301
        },
        "colab_type": "code",
        "id": "gD-VqbCQeD6m",
        "outputId": "6ba42e72-2258-469c-9a94-3da9c7809980"
      },
      "outputs": [],
      "source": [
        "def calculate_mi(data: pd.DataFrame) -> pd.Series:\n",
        "    # Codes for Q2b\n",
        "    mi = None\n",
        "    \n",
        "    return mi"
      ]
    },
    {
      "cell_type": "code",
      "execution_count": 23,
      "metadata": {
        "colab": {
          "base_uri": "https://localhost:8080/",
          "height": 235
        },
        "colab_type": "code",
        "id": "8LSJ-vnweD6p",
        "outputId": "59068056-50c1-4f25-f13c-db53164b5cbb"
      },
      "outputs": [],
      "source": [
        "cleaned_train_data = pd.read_csv(DATA_DIR+\"/cleaned_train_data.csv\")\n",
        "# report the mutual information\n",
        "mi = calculate_mi(cleaned_train_data)\n",
        "mi"
      ]
    },
    {
      "cell_type": "code",
      "execution_count": null,
      "metadata": {},
      "outputs": [],
      "source": [
        "assert (isinstance(mi, pd.Series)), \"Return type of the value should be pd.Series\""
      ]
    },
    {
      "cell_type": "markdown",
      "metadata": {
        "colab_type": "text",
        "id": "f15uYND_eD6s"
      },
      "source": [
        "### Q2 (c)\n",
        "Your text answer for Q2 (c)"
      ]
    },
    {
      "cell_type": "markdown",
      "metadata": {},
      "source": [
        "### Q2 (d)"
      ]
    },
    {
      "cell_type": "code",
      "execution_count": 24,
      "metadata": {},
      "outputs": [],
      "source": [
        "def new_features(data: pd.DataFrame) -> pd.DataFrame:\n",
        "    new_data = data.copy()\n",
        "    # uncomment following code if you want to use the 'Date' column\n",
        "    # new_data['Date'] = new_data['Year'].astype(str) + '-' + new_data['Month'].astype(str) + '-' + new_data['DayOfMonth'].astype(str)\n",
        "    # new_data['Date'] = pd.to_datetime(new_data['Date'])\n",
        "\n",
        "    # Codes for Q2d:\n",
        "    #### IMPORTANT_NOTE : ######\n",
        "    # Please ensure that this function you implement runs without any errors. \n",
        "    # If the function fails to run, you will receive no marks for all the remaining questions (they rely on this function). \n",
        "    # If you’re uncertain about the solution, you can keep the given code, which will return the input dataframe without any changes. \n",
        "    # In this case, you will receive zero marks for this question, but not effect the subsequent questions.\n",
        "\n",
        "    #DO NOT FORGET TO DROP 'Date' COLUMN AFTER YOU USE IT\n",
        "    # new_data.drop(['Date'], axis=1, inplace=True)\n",
        "\n",
        "\n",
        "    # make sure your return dataframe have at least 3 additional columns as mentioned in the above tasks\n",
        "    return new_data"
      ]
    },
    {
      "cell_type": "code",
      "execution_count": 25,
      "metadata": {},
      "outputs": [],
      "source": [
        "# generated new features and calculate the mutual information\n",
        "cleaned_train_data = pd.read_csv(DATA_DIR+\"/cleaned_train_data.csv\")\n",
        "data_with_new_features = new_features(cleaned_train_data)\n",
        "mi = calculate_mi(data_with_new_features)\n",
        "mi"
      ]
    },
    {
      "cell_type": "markdown",
      "metadata": {},
      "source": [
        "Your text answer for Q2 (d)"
      ]
    },
    {
      "cell_type": "code",
      "execution_count": null,
      "metadata": {},
      "outputs": [],
      "source": [
        "assert (isinstance(data_with_new_features, pd.DataFrame)), \"Return type of the value should be pd.DataFrame\""
      ]
    },
    {
      "cell_type": "markdown",
      "metadata": {
        "colab_type": "text",
        "id": "QFAVtGjaeD6t"
      },
      "source": [
        "## Q3"
      ]
    },
    {
      "cell_type": "markdown",
      "metadata": {
        "colab_type": "text",
        "id": "5rO86jBEeD6u"
      },
      "source": [
        "### Q3 (a)"
      ]
    },
    {
      "cell_type": "code",
      "execution_count": 16,
      "metadata": {},
      "outputs": [
        {
          "name": "stdout",
          "output_type": "stream",
          "text": [
            "(431208, 36) (107803, 36)\n"
          ]
        }
      ],
      "source": [
        "cleaned_train_data = pd.read_csv(DATA_DIR+\"/cleaned_train_data.csv\")\n",
        "X = cleaned_train_data.drop('Sales', axis=1)\n",
        "y = cleaned_train_data['Sales']\n",
        "\n",
        "X_train, X_valid, y_train, y_valid = train_test_split(X, y, test_size=0.2, random_state=0)\n",
        "print(X_train.shape, X_valid.shape)"
      ]
    },
    {
      "cell_type": "code",
      "execution_count": 27,
      "metadata": {},
      "outputs": [],
      "source": [
        "def Q3a(X: pd.DataFrame, y: pd.Series, alpha: float = 0.5) -> linear_model.Ridge:\n",
        "    # Codes for Q3a\n",
        "    model = None\n",
        "    \n",
        "    return model"
      ]
    },
    {
      "cell_type": "code",
      "execution_count": 28,
      "metadata": {},
      "outputs": [],
      "source": [
        "# train the model\n",
        "Q3a_model = Q3a(X_train, y_train, 0.5)\n",
        "if Q3a_model is not None:\n",
        "    # report the coefficients\n",
        "    print(pd.DataFrame(Q3a_model.coef_, index=X.columns, columns=['Coefficient']))"
      ]
    },
    {
      "cell_type": "markdown",
      "metadata": {},
      "source": [
        "\n",
        "\n",
        "(You text answer for Q3 (a))"
      ]
    },
    {
      "cell_type": "code",
      "execution_count": null,
      "metadata": {},
      "outputs": [],
      "source": [
        "assert isinstance(Q3a_model, linear_model.Ridge), \"Return type of the value should be Ridge\""
      ]
    },
    {
      "cell_type": "markdown",
      "metadata": {},
      "source": [
        "### Q3 (b)"
      ]
    },
    {
      "cell_type": "code",
      "execution_count": 29,
      "metadata": {},
      "outputs": [],
      "source": [
        "def Q3b(X_train: pd.DataFrame, y_train: pd.Series, X_val: pd.DataFrame, y_val: pd.Series) -> dict:\n",
        "    hyper_params = [] # list of possible value of tuning alpha(5 different values)\n",
        "    results = {} # dictionary to store the results\n",
        "\n",
        "    for hyper_param in hyper_params:\n",
        "        # model with value hyper_param in the tuning hyperparameter using Q3a\n",
        "        model = None \n",
        "        # prediction of the model using X_val\n",
        "        y_pred = None\n",
        "        # root mean squared error of the model with y_val and y_pred\n",
        "        rmse = None\n",
        "        # key: hyper_param, value: mean_rmse\n",
        "        results[hyper_param] = rmse\n",
        "\n",
        "    # plot the results\n",
        "    \n",
        "    return results"
      ]
    },
    {
      "cell_type": "code",
      "execution_count": 30,
      "metadata": {},
      "outputs": [],
      "source": [
        "results = Q3b(X_train, y_train, X_valid, y_valid)\n",
        "pd.DataFrame(results.items(), columns=['Hyperparamter', 'Mean RMSE']).sort_values(by='Mean RMSE')"
      ]
    },
    {
      "cell_type": "markdown",
      "metadata": {},
      "source": [
        "your text answer for Q3b"
      ]
    },
    {
      "cell_type": "code",
      "execution_count": null,
      "metadata": {},
      "outputs": [],
      "source": [
        "assert (isinstance(results , dict)), \"Return type of the value should be dict\""
      ]
    },
    {
      "cell_type": "markdown",
      "metadata": {},
      "source": [
        "### Q3 (c)"
      ]
    },
    {
      "cell_type": "code",
      "execution_count": 34,
      "metadata": {},
      "outputs": [],
      "source": [
        "def Q3c(X: pd.DataFrame, y: pd.Series) -> linear_model.Ridge:\n",
        "    # Codes for Q3c\n",
        "    features = X.columns # MODIFY THIS LINE TO CHANGE THE FEATURES\n",
        "    X = X[features]\n",
        "\n",
        "    model = None\n",
        "    mean_rmse = None\n",
        "    \n",
        "    return model, mean_rmse"
      ]
    },
    {
      "cell_type": "code",
      "execution_count": 35,
      "metadata": {},
      "outputs": [],
      "source": [
        "\n",
        "cleaned_train_data = pd.read_csv(DATA_DIR+\"/cleaned_train_data.csv\")\n",
        "# generate new features\n",
        "data_with_new_features = new_features(cleaned_train_data)\n",
        "# obtain observed features and target feature\n",
        "X = data_with_new_features.drop('Sales', axis=1)\n",
        "y = data_with_new_features['Sales']\n",
        "# train the model\n",
        "Q3c_model, mean_rmse = Q3c(X, y)\n",
        "mean_rmse"
      ]
    },
    {
      "cell_type": "markdown",
      "metadata": {},
      "source": [
        "Your text answer for Q3(c)"
      ]
    },
    {
      "cell_type": "code",
      "execution_count": null,
      "metadata": {},
      "outputs": [],
      "source": [
        "assert (isinstance(Q3c_model, linear_model.Ridge)), \"Return type of the value should be Ridge\"\n",
        "assert (isinstance(mean_rmse, float)), \"Return type of the value should be float\""
      ]
    },
    {
      "cell_type": "markdown",
      "metadata": {},
      "source": [
        "### Q3 (d)"
      ]
    },
    {
      "cell_type": "code",
      "execution_count": 8,
      "metadata": {},
      "outputs": [],
      "source": [
        "def Q3d(X: pd.DataFrame, y: pd.Series) -> plt.Axes:\n",
        "   # Codes for Q3d\n",
        "\n",
        "   top_features = [] # top 20 features with the highest mutual information excluding the target feature 'Sales'\n",
        "   K = range(1, 21)\n",
        "   rmse = pd.DataFrame()\n",
        "   for k in K:\n",
        "      # select the top k features\n",
        "      features = None\n",
        "      # train the Ridge model with the selected features (you can choose you own alpha)\n",
        "      model = None\n",
        "      # calculate the RMSE using 3-fold cross validation\n",
        "      cv_result = None\n",
        "      # store the RMSE as a pandas DataFrame\n",
        "      current_rmse = None\n",
        "      # append the current_rmse to the rmse DataFrame\n",
        "\n",
        "   # plot the line plot using seaborn lineplot of K and RMSE with 95% confidence interval\n",
        "   line_plot =  None\n",
        "   \n",
        "   return line_plot"
      ]
    },
    {
      "cell_type": "code",
      "execution_count": 9,
      "metadata": {},
      "outputs": [],
      "source": [
        "cleaned_train_data = pd.read_csv(DATA_DIR+\"/cleaned_train_data.csv\")\n",
        "X = cleaned_train_data.drop('Sales', axis=1)\n",
        "y = cleaned_train_data['Sales']\n",
        "\n",
        "line_plot = Q3d(X, y)\n",
        "plt.show()"
      ]
    },
    {
      "cell_type": "markdown",
      "metadata": {},
      "source": [
        "Your text answer for Q3(d)"
      ]
    },
    {
      "cell_type": "code",
      "execution_count": null,
      "metadata": {},
      "outputs": [],
      "source": [
        "assert (isinstance(line_plot, plt.Axes)), \"Return type of the value should be matplotlib.axes._subplots.Axes\""
      ]
    },
    {
      "cell_type": "markdown",
      "metadata": {},
      "source": [
        "### Q3(e)"
      ]
    },
    {
      "cell_type": "code",
      "execution_count": null,
      "metadata": {},
      "outputs": [],
      "source": [
        "def Q3e(train_data: pd.DataFrame, test_data: pd.DataFrame) -> float:\n",
        "    X_train = train_data.drop('Sales', axis=1)\n",
        "    y_train = train_data['Sales']\n",
        "\n",
        "    X_test = test_data.drop('Sales', axis=1)\n",
        "    y_test = test_data['Sales']\n",
        "\n",
        "    # (optional) Codes for Q3e (if you want select a subset of features)\n",
        "    features = X_train.columns # MODIFY THIS LINE TO CHANGE THE FEATURES (default is all features)\n",
        "\n",
        "    # ensure the columns are in the same order\n",
        "    X_test = X_test[features]\n",
        "    X_train = X_train[features]\n",
        "\n",
        "    # Codes for Q3e\n",
        "\n",
        "    # 1. Train your best model on the train_data (X_train, y_train)\n",
        "    # 2. Predict on the test_data (X_test)\n",
        "    # 3. Calculate the RMSE for the test_data prediction based on the ground truth (y_test)'\n",
        "    model = None\n",
        "    y_pred = None\n",
        "    rmse = None\n",
        "\n",
        "    #return the rmse\n",
        "    return rmse"
      ]
    },
    {
      "cell_type": "code",
      "execution_count": null,
      "metadata": {},
      "outputs": [],
      "source": [
        "cleaned_train_data = pd.read_csv(DATA_DIR+\"/cleaned_train_data.csv\")\n",
        "cleaned_train_data = new_features(cleaned_train_data)\n",
        "cleaned_test_data = pd.read_csv(DATA_DIR+\"/cleaned_test_data.csv\")\n",
        "cleaned_test_data = new_features(cleaned_test_data)\n",
        "\n",
        "rmse = Q3e(cleaned_train_data, cleaned_test_data)\n",
        "rmse"
      ]
    },
    {
      "cell_type": "markdown",
      "metadata": {},
      "source": [
        "Your text answer for Q3(e)"
      ]
    },
    {
      "cell_type": "code",
      "execution_count": null,
      "metadata": {},
      "outputs": [],
      "source": [
        "assert (isinstance(rmse, float)), \"Return type of the value should be float\""
      ]
    }
  ],
  "metadata": {
    "colab": {
      "name": "ml-assignment_done.ipynb",
      "provenance": [],
      "version": "0.3.2"
    },
    "kernelspec": {
      "display_name": "Python 3",
      "language": "python",
      "name": "python3"
    },
    "language_info": {
      "codemirror_mode": {
        "name": "ipython",
        "version": 3
      },
      "file_extension": ".py",
      "mimetype": "text/x-python",
      "name": "python",
      "nbconvert_exporter": "python",
      "pygments_lexer": "ipython3",
      "version": "3.12.11"
    }
  },
  "nbformat": 4,
  "nbformat_minor": 0
}
